{
  "nbformat": 4,
  "nbformat_minor": 0,
  "metadata": {
    "colab": {
      "name": "IEE534_HW1.ipynb",
      "provenance": [],
      "collapsed_sections": [],
      "authorship_tag": "ABX9TyOIQsNQc/1yKVK8bOSqXeDj",
      "include_colab_link": true
    },
    "kernelspec": {
      "name": "python3",
      "display_name": "Python 3"
    }
  },
  "cells": [
    {
      "cell_type": "markdown",
      "metadata": {
        "id": "view-in-github",
        "colab_type": "text"
      },
      "source": [
        "<a href=\"https://colab.research.google.com/github/kkarthi6/CPP526_Kavin/blob/master/IEE534_HW1.ipynb\" target=\"_parent\"><img src=\"https://colab.research.google.com/assets/colab-badge.svg\" alt=\"Open In Colab\"/></a>"
      ]
    },
    {
      "cell_type": "markdown",
      "metadata": {
        "id": "nVhYDI1Be6xb"
      },
      "source": [
        "# Submission for IEE534 HW1\r\n",
        "## Kavin Karthikeyan"
      ]
    },
    {
      "cell_type": "code",
      "metadata": {
        "cellView": "form",
        "id": "gDzRf5JvfxyQ"
      },
      "source": [
        "#@title Importing necessary libraries\r\n",
        "import pandas as pd\r\n",
        "import numpy as np\r\n",
        "import matplotlib.pyplot as plt\r\n",
        "import seaborn as sns"
      ],
      "execution_count": null,
      "outputs": []
    },
    {
      "cell_type": "markdown",
      "metadata": {
        "id": "LkPeEBGifZ8H"
      },
      "source": [
        "## Problem 1"
      ]
    },
    {
      "cell_type": "code",
      "metadata": {
        "id": "ynzIs66fgety"
      },
      "source": [
        "#@title Defining necessary functions\r\n",
        "\r\n",
        "# Defining a function to calculate h\r\n",
        "def HC(c,i):\r\n",
        "  h = round(c*i,4)\r\n",
        "  print (\"Holding cost:\", h)\r\n",
        "\r\n",
        "# Defining a function to calculate EOQ\r\n",
        "def EOQ(K,D,h):\r\n",
        "   Q = round((np.sqrt(2*K*D/h)))\r\n",
        "   print (\"Economic Order Quantity:\", Q)\r\n",
        "   return Q\r\n",
        "\r\n",
        "# Defining a functino to calculate n\r\n",
        "def Nordersperyear(D,Q):\r\n",
        "  n = D/Q\r\n",
        "  print (\"Number of orders in a year:\", n)\r\n",
        "\r\n",
        "# Defining a function to calculate Q from n and D\r\n",
        "def QfromnD(n,D):\r\n",
        "  qnd = round(D/n)\r\n",
        "  print (\"The order size for\", n, \"orders a year can be\", qnd)\r\n",
        "\r\n",
        "# Defining a function to find k from Q\r\n",
        "def KfromQ(D,Q,h):\r\n",
        "  kfq = round((h*Q*Q)/(2*D))\r\n",
        "  return kfq"
      ],
      "execution_count": null,
      "outputs": []
    },
    {
      "cell_type": "code",
      "metadata": {
        "colab": {
          "base_uri": "https://localhost:8080/"
        },
        "id": "tMtQfeC9jZzd",
        "outputId": "90863d38-1b08-49e1-f76e-4ed66e3493de"
      },
      "source": [
        "# Problem 1 - (a)\r\n",
        "\r\n",
        "HC(1.5,0.20)\r\n",
        "EOQ(20,3900,0.3)"
      ],
      "execution_count": null,
      "outputs": [
        {
          "output_type": "stream",
          "text": [
            "Holding cost: 0.3\n",
            "Economic Order Quantity: 721\n"
          ],
          "name": "stdout"
        },
        {
          "output_type": "execute_result",
          "data": {
            "text/plain": [
              "721"
            ]
          },
          "metadata": {
            "tags": []
          },
          "execution_count": 19
        }
      ]
    },
    {
      "cell_type": "code",
      "metadata": {
        "colab": {
          "base_uri": "https://localhost:8080/"
        },
        "id": "9ul1Yws5k8By",
        "outputId": "81852819-52fc-4006-8856-651a199bc680"
      },
      "source": [
        "# Problem 1 - (b)\r\n",
        "\r\n",
        "QfromnD(3,3900)"
      ],
      "execution_count": null,
      "outputs": [
        {
          "output_type": "stream",
          "text": [
            "The order size for 3 orders a year can be 1300\n"
          ],
          "name": "stdout"
        }
      ]
    },
    {
      "cell_type": "code",
      "metadata": {
        "colab": {
          "base_uri": "https://localhost:8080/"
        },
        "id": "OuswScFvlJzk",
        "outputId": "a6dead40-5b48-4dd0-8dc8-f1d8141ab0ad"
      },
      "source": [
        "# Problem 1 - (c)\r\n",
        "\r\n",
        "kmin = KfromQ(3900,721,0.3)\r\n",
        "kmax = KfromQ(3900,1300,0.3)\r\n",
        "print(\"The fixed costs can lie between\", kmin,\"and\", kmax)"
      ],
      "execution_count": null,
      "outputs": [
        {
          "output_type": "stream",
          "text": [
            "The fixed costs can lie between 20 and 65\n"
          ],
          "name": "stdout"
        }
      ]
    },
    {
      "cell_type": "markdown",
      "metadata": {
        "id": "IhEQGVE0I5oR"
      },
      "source": [
        "## Problem 2"
      ]
    },
    {
      "cell_type": "code",
      "metadata": {
        "id": "-1Y280B6JIL7"
      },
      "source": [
        "#@title Defining necessary functions\r\n",
        "\r\n",
        "def Reorderinterval(K,D,h):\r\n",
        "  t = round(np.sqrt((2*K)/(D*h)),2)\r\n",
        "  print(\"Re-order interval(T*):\", t)\r\n",
        "  print(\"Order once every\", t*365,\"days\")\r\n",
        "\r\n",
        "def QTotalCost(K,D,Q,c,h):\r\n",
        "  tcq = ((K*D)/Q) + (c*D) + ((h*Q)/2)\r\n",
        "  print(\"The average total cost per year for order quantity\", Q,\"is\", round(tcq,2))\r\n",
        "  return round(tcq,2)\r\n",
        "\r\n",
        "def EOQTotalCost(K,D,h,c):\r\n",
        "  tceoq = np.sqrt(2*K*D*h) + c*D\r\n",
        "  print(\"Total cost for EOQ\", Q,\"is\", tceoq)\r\n",
        "\r\n",
        "def FCdiscount(tc,c,D,h,Q):\r\n",
        "  K = (((tc) - (c*D) - (h*Q/2))*Q)/D\r\n",
        "  print(\"The Fixed cost discount must be:\", round(K,2))\r\n",
        "\r\n"
      ],
      "execution_count": null,
      "outputs": []
    },
    {
      "cell_type": "code",
      "metadata": {
        "colab": {
          "base_uri": "https://localhost:8080/"
        },
        "id": "KZ4hsBFfI75H",
        "outputId": "ca093628-0008-47b3-d2cd-efa117a1be7c"
      },
      "source": [
        "# Problem 2 - (a)\r\n",
        "EOQ(2250,182500,275)\r\n"
      ],
      "execution_count": null,
      "outputs": [
        {
          "output_type": "stream",
          "text": [
            "Economic Order Quantity: 1728\n"
          ],
          "name": "stdout"
        },
        {
          "output_type": "execute_result",
          "data": {
            "text/plain": [
              "1728"
            ]
          },
          "metadata": {
            "tags": []
          },
          "execution_count": 23
        }
      ]
    },
    {
      "cell_type": "code",
      "metadata": {
        "colab": {
          "base_uri": "https://localhost:8080/"
        },
        "id": "__WbXwlOJNxB",
        "outputId": "5ff190c4-c6a6-4c1d-c57c-d2ccf3fe2440"
      },
      "source": [
        "# Problem 2 - (b)\r\n",
        "Reorderinterval(2250,182500,275)\r\n"
      ],
      "execution_count": null,
      "outputs": [
        {
          "output_type": "stream",
          "text": [
            "Re-order interval(T*): 0.01\n",
            "Order once every 3.65 days\n"
          ],
          "name": "stdout"
        }
      ]
    },
    {
      "cell_type": "code",
      "metadata": {
        "colab": {
          "base_uri": "https://localhost:8080/"
        },
        "id": "-FvpaNbmJRYI",
        "outputId": "902674ca-646b-4430-ab3b-6cad9e7c863a"
      },
      "source": [
        "# Problem 2 - (c)\r\n",
        "\r\n",
        "QTC1 = QTotalCost(2250,182500,1728,1000,275)"
      ],
      "execution_count": null,
      "outputs": [
        {
          "output_type": "stream",
          "text": [
            "The average total cost per year for order quantity 1728 is 182975230.21\n"
          ],
          "name": "stdout"
        }
      ]
    },
    {
      "cell_type": "code",
      "metadata": {
        "colab": {
          "base_uri": "https://localhost:8080/"
        },
        "id": "KFfcIG5_JSuc",
        "outputId": "e64671e8-1a72-4e34-c632-80d2c838595e"
      },
      "source": [
        "# Problem 2 - (d)\r\n",
        "\r\n",
        "print(\"The company should use 3000 as order quantity as it is nearest to EOQ = 1728\")\r\n",
        "print(\"It costs them\", ((275*3000)/2) - ((275*1728)/2),\"more in Inventory costs every year\")"
      ],
      "execution_count": null,
      "outputs": [
        {
          "output_type": "stream",
          "text": [
            "The company should use 3000 as order quantity as it is nearest to EOQ = 1728\n",
            "It costs them 174900.0 more in Inventory costs every year\n"
          ],
          "name": "stdout"
        }
      ]
    },
    {
      "cell_type": "code",
      "metadata": {
        "colab": {
          "base_uri": "https://localhost:8080/"
        },
        "id": "NMNjVk4XJTrT",
        "outputId": "ef5c9287-f926-4792-80fd-96de98686e4f"
      },
      "source": [
        "# Problem 2 - (e)\r\n",
        "\r\n",
        "print(\"The company should use 2000 as order quantity as it is nearest to EOQ = 1728\")\r\n",
        "QTC3 = QTotalCost(2250,182500,2000,1000,275)\r\n",
        "print(\"It costs them\", round(QTC3 - QTC1,2) ,\"more\")"
      ],
      "execution_count": null,
      "outputs": [
        {
          "output_type": "stream",
          "text": [
            "The company should use 2000 as order quantity as it is nearest to EOQ = 1728\n",
            "The average total cost per year for order quantity 2000 is 182980312.5\n",
            "It costs them 5082.29 more\n"
          ],
          "name": "stdout"
        }
      ]
    },
    {
      "cell_type": "code",
      "metadata": {
        "colab": {
          "base_uri": "https://localhost:8080/"
        },
        "id": "Etag6kFEJU3z",
        "outputId": "47662dfb-b058-4b9c-d6bd-efb911eecf45"
      },
      "source": [
        "# Problem 2 - (f)\r\n",
        "\r\n",
        "print(\"The new Q is\", 0.04*182500)\r\n",
        "FCdiscount(QTC1,1000,182500,275,7300)"
      ],
      "execution_count": null,
      "outputs": [
        {
          "output_type": "stream",
          "text": [
            "The new Q is 7300.0\n",
            "The Fixed cost discount must be: -21140.79\n"
          ],
          "name": "stdout"
        }
      ]
    },
    {
      "cell_type": "markdown",
      "metadata": {
        "id": "wi2Ni9fNJWTn"
      },
      "source": [
        "## Problem 3"
      ]
    },
    {
      "cell_type": "code",
      "metadata": {
        "id": "3-JAo9LqEYhT"
      },
      "source": [
        "#@title Defining necessary functions\r\n",
        "\r\n",
        "def EPL(K,D,h,P):\r\n",
        "  epl = np.sqrt((2*K*D)/(h*(1-(D/P))))\r\n",
        "  print(\"The economic production lot size is\", round(epl))\r\n",
        "  return epl\r\n",
        "\r\n",
        "def LOPR(Q,P):\r\n",
        "  l = (Q/P)\r\n",
        "  print(\"The length of each production run is:\", l)\r\n",
        "  print(l*365,\"Days\")\r\n",
        "\r\n",
        "def EPLTotalCost(K,D,Q,c,h,P):\r\n",
        "  tcq = ((K*D)/Q) + (c*D) + h*(Q*(1-(D/P))/2)\r\n",
        "  print(\"The average total cost per year for order quantity\", Q,\"is\", round(tcq,2))\r\n",
        "  return round(tcq,2)"
      ],
      "execution_count": null,
      "outputs": []
    },
    {
      "cell_type": "code",
      "metadata": {
        "colab": {
          "base_uri": "https://localhost:8080/"
        },
        "id": "1N_ni5-kJYRW",
        "outputId": "2c63757e-fb69-4263-a829-b2a6e714a60a"
      },
      "source": [
        "# Problem 3 - (a)\r\n",
        "HC(75,0.25)\r\n",
        "EPL1 = EPL(980,30000,18.75,50000)\r\n",
        "LOPR(2800,50000)\r\n",
        "TCEPL1 = EPLTotalCost(980,30000,2800,75,18.75,50000)"
      ],
      "execution_count": null,
      "outputs": [
        {
          "output_type": "stream",
          "text": [
            "Holding cost: 18.75\n",
            "The economic production lot size is 2800\n",
            "The length of each production run is: 0.056\n",
            "20.44 Days\n",
            "The average total cost per year for order quantity 2800 is 2271000.0\n"
          ],
          "name": "stdout"
        }
      ]
    },
    {
      "cell_type": "code",
      "metadata": {
        "colab": {
          "base_uri": "https://localhost:8080/"
        },
        "id": "xO4aZ1JhJanQ",
        "outputId": "2e39151f-2fdd-4ebc-b06a-abc9a75df7d3"
      },
      "source": [
        "# Problem 3 - (b)\r\n",
        "EOQ(250,30000,125*0.25)\r\n",
        "TCEOQ1 = QTotalCost(980,30000,693,125,125*0.25)"
      ],
      "execution_count": null,
      "outputs": [
        {
          "output_type": "stream",
          "text": [
            "Economic Order Quantity: 693\n",
            "The average total cost per year for order quantity 693 is 3803252.37\n"
          ],
          "name": "stdout"
        }
      ]
    },
    {
      "cell_type": "code",
      "metadata": {
        "colab": {
          "base_uri": "https://localhost:8080/"
        },
        "id": "TrG1nllXHY9A",
        "outputId": "c26f30e9-3415-424c-e529-921896ab75e0"
      },
      "source": [
        "# Problem 3 - (c)\r\n",
        "print(\"The difference in costs for Make Vs Buy options are\", TCEOQ1 - TCEPL1)\r\n",
        "print(\"Producing in house is cheaper\")\r\n",
        "print(\"Bell should make the motherboard in house\")"
      ],
      "execution_count": null,
      "outputs": [
        {
          "output_type": "stream",
          "text": [
            "The difference in costs for Make Vs Buy options are 1532252.37\n",
            "Producing in house is cheaper\n",
            "Bell should make the motherboard in house\n"
          ],
          "name": "stdout"
        }
      ]
    },
    {
      "cell_type": "markdown",
      "metadata": {
        "id": "u29stF0XJdqT"
      },
      "source": [
        "## Problem 4"
      ]
    },
    {
      "cell_type": "code",
      "metadata": {
        "colab": {
          "base_uri": "https://localhost:8080/"
        },
        "id": "wvhcfeGCJfGl",
        "outputId": "1279117c-5935-480f-ed51-69c93f42250d"
      },
      "source": [
        "# Problem 4 - (a)\r\n",
        "c1 = 1490\r\n",
        "c2 = 1220\r\n",
        "c3 = 1100\r\n",
        "\r\n",
        "print(\"For less than 1200 tons\")\r\n",
        "EOQ1 = EOQ(2250,182500,c1*0.25)\r\n",
        "print(\"For 1200 to 2400 tons\")\r\n",
        "EOQ2 = EOQ(2250,182500,c2*0.25)\r\n",
        "print(\"For more than 2400 tons\")\r\n",
        "EOQ3 = EOQ(2250,182500,c3*0.25)"
      ],
      "execution_count": null,
      "outputs": [
        {
          "output_type": "stream",
          "text": [
            "For less than 1200 tons\n",
            "Economic Order Quantity: 1485\n",
            "For 1200 to 2400 tons\n",
            "Economic Order Quantity: 1641\n",
            "For more than 2400 tons\n",
            "Economic Order Quantity: 1728\n"
          ],
          "name": "stdout"
        }
      ]
    },
    {
      "cell_type": "code",
      "metadata": {
        "colab": {
          "base_uri": "https://localhost:8080/"
        },
        "id": "WV5dOaTapd9S",
        "outputId": "492c3864-5601-4df5-f601-f4115383001a"
      },
      "source": [
        "# Problem 4 - (b)\r\n",
        "cbp = 2400\r\n",
        "TCbp = QTotalCost(2250,182500,2400,c3,c3*0.25)\r\n",
        "print(\"\\nThe cost breakpoint nearest to the maximum realizable EOQ is\", cbp)\r\n",
        "print(\"The average total cost that the company will incur with the optimal order quantity 2400\", TCbp)\r\n"
      ],
      "execution_count": null,
      "outputs": [
        {
          "output_type": "stream",
          "text": [
            "The average total cost per year for order quantity 2400 is 201251093.75\n",
            "\n",
            "The cost breakpoint nearest to the maximum realizable EOQ is 2400\n",
            "The average total cost that the company will incur with the optimal order quantity 2400 201251093.75\n"
          ],
          "name": "stdout"
        }
      ]
    },
    {
      "cell_type": "markdown",
      "metadata": {
        "id": "nusYiikbJivp"
      },
      "source": [
        "## Problem 5"
      ]
    },
    {
      "cell_type": "code",
      "metadata": {
        "colab": {
          "base_uri": "https://localhost:8080/"
        },
        "id": "Uo2AYCVKJlYm",
        "outputId": "668c1e51-bbc6-42f4-9563-2633a454e0d5"
      },
      "source": [
        "# Problem 5 - (a)\r\n",
        "print(\"PC(Q/Q:\\n1490\\n324000/Q + 1220\\n612000/Q + 1100\")\r\n",
        "print(\"\\n\")\r\n",
        "print(\"Incremental discount structure EOQ:\\n\")\r\n",
        "print(\"For Q <1200\")\r\n",
        "EOQ51 = EOQ(2250,182500,0.25*1490)\r\n",
        "print(\"1200 <= Q < 2400\")\r\n",
        "EOQ52 = EOQ(2250+324000,182500,0.25*1220)\r\n",
        "print(\"Q >= 2400\")\r\n",
        "EOQ53 = EOQ(2250+612000,182500,0.25*1100)"
      ],
      "execution_count": null,
      "outputs": [
        {
          "output_type": "stream",
          "text": [
            "PC(Q/Q:\n",
            "1490\n",
            "324000/Q + 1220\n",
            "612000/Q + 1100\n",
            "\n",
            "\n",
            "Incremental discount structure EOQ:\n",
            "\n",
            "For Q <1200\n",
            "Economic Order Quantity: 1485\n",
            "1200 <= Q < 2400\n",
            "Economic Order Quantity: 19759\n",
            "Q >= 2400\n",
            "Economic Order Quantity: 28553\n"
          ],
          "name": "stdout"
        }
      ]
    },
    {
      "cell_type": "code",
      "metadata": {
        "colab": {
          "base_uri": "https://localhost:8080/"
        },
        "id": "hCSlpvLWJmi4",
        "outputId": "ac29c964-52d6-4e0c-8371-5b28ad0c94d0"
      },
      "source": [
        "# Problem 5 - (b)\r\n",
        "print(\"Optimal EOQ is: 1485\")\r\n",
        "QTC51 = QTotalCost(2250,182500,28553,1100,0.25*1100)\r\n"
      ],
      "execution_count": null,
      "outputs": [
        {
          "output_type": "stream",
          "text": [
            "Optimal EOQ is: 1485\n",
            "The average total cost per year for order quantity 28553 is 204690418.65\n"
          ],
          "name": "stdout"
        }
      ]
    }
  ]
}